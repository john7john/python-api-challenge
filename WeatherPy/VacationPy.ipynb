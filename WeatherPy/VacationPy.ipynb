{
 "cells": [
  {
   "cell_type": "markdown",
   "metadata": {},
   "source": [
    "# VacationPy\n",
    "---\n",
    "\n",
    "## Starter Code to Import Libraries and Load the Weather and Coordinates Data"
   ]
  },
  {
   "cell_type": "code",
   "execution_count": 20,
   "metadata": {},
   "outputs": [],
   "source": [
    "# Dependencies and Setup\n",
    "import hvplot.pandas\n",
    "import pandas as pd\n",
    "import requests\n",
    "# Import API key\n",
    "from api_keys import geoapify_key"
   ]
  },
  {
   "cell_type": "code",
   "execution_count": 3,
   "metadata": {},
   "outputs": [
    {
     "data": {
      "text/html": [
       "<div>\n",
       "<style scoped>\n",
       "    .dataframe tbody tr th:only-of-type {\n",
       "        vertical-align: middle;\n",
       "    }\n",
       "\n",
       "    .dataframe tbody tr th {\n",
       "        vertical-align: top;\n",
       "    }\n",
       "\n",
       "    .dataframe thead th {\n",
       "        text-align: right;\n",
       "    }\n",
       "</style>\n",
       "<table border=\"1\" class=\"dataframe\">\n",
       "  <thead>\n",
       "    <tr style=\"text-align: right;\">\n",
       "      <th></th>\n",
       "      <th>City_ID</th>\n",
       "      <th>City</th>\n",
       "      <th>Lat</th>\n",
       "      <th>Lng</th>\n",
       "      <th>Max Temp</th>\n",
       "      <th>Humidity</th>\n",
       "      <th>Cloudiness</th>\n",
       "      <th>Wind Speed</th>\n",
       "      <th>Country</th>\n",
       "      <th>Date</th>\n",
       "    </tr>\n",
       "  </thead>\n",
       "  <tbody>\n",
       "    <tr>\n",
       "      <th>0</th>\n",
       "      <td>0</td>\n",
       "      <td>kahului</td>\n",
       "      <td>20.8947</td>\n",
       "      <td>-156.4700</td>\n",
       "      <td>25.47</td>\n",
       "      <td>80</td>\n",
       "      <td>20</td>\n",
       "      <td>3.60</td>\n",
       "      <td>US</td>\n",
       "      <td>2023-03-30 18:29:33</td>\n",
       "    </tr>\n",
       "    <tr>\n",
       "      <th>1</th>\n",
       "      <td>1</td>\n",
       "      <td>saint george</td>\n",
       "      <td>37.1041</td>\n",
       "      <td>-113.5841</td>\n",
       "      <td>10.53</td>\n",
       "      <td>51</td>\n",
       "      <td>20</td>\n",
       "      <td>5.66</td>\n",
       "      <td>US</td>\n",
       "      <td>2023-03-30 18:29:34</td>\n",
       "    </tr>\n",
       "    <tr>\n",
       "      <th>2</th>\n",
       "      <td>2</td>\n",
       "      <td>saint-philippe</td>\n",
       "      <td>-21.3585</td>\n",
       "      <td>55.7679</td>\n",
       "      <td>26.77</td>\n",
       "      <td>89</td>\n",
       "      <td>93</td>\n",
       "      <td>4.48</td>\n",
       "      <td>RE</td>\n",
       "      <td>2023-03-30 18:29:34</td>\n",
       "    </tr>\n",
       "    <tr>\n",
       "      <th>3</th>\n",
       "      <td>3</td>\n",
       "      <td>alihe</td>\n",
       "      <td>50.5667</td>\n",
       "      <td>123.7167</td>\n",
       "      <td>1.27</td>\n",
       "      <td>82</td>\n",
       "      <td>1</td>\n",
       "      <td>0.91</td>\n",
       "      <td>CN</td>\n",
       "      <td>2023-03-30 18:29:34</td>\n",
       "    </tr>\n",
       "    <tr>\n",
       "      <th>4</th>\n",
       "      <td>4</td>\n",
       "      <td>hami</td>\n",
       "      <td>42.8000</td>\n",
       "      <td>93.4500</td>\n",
       "      <td>13.63</td>\n",
       "      <td>14</td>\n",
       "      <td>0</td>\n",
       "      <td>4.75</td>\n",
       "      <td>CN</td>\n",
       "      <td>2023-03-30 18:29:35</td>\n",
       "    </tr>\n",
       "  </tbody>\n",
       "</table>\n",
       "</div>"
      ],
      "text/plain": [
       "   City_ID            City      Lat       Lng  Max Temp  Humidity  Cloudiness  \\\n",
       "0        0         kahului  20.8947 -156.4700     25.47        80          20   \n",
       "1        1    saint george  37.1041 -113.5841     10.53        51          20   \n",
       "2        2  saint-philippe -21.3585   55.7679     26.77        89          93   \n",
       "3        3           alihe  50.5667  123.7167      1.27        82           1   \n",
       "4        4            hami  42.8000   93.4500     13.63        14           0   \n",
       "\n",
       "   Wind Speed Country                 Date  \n",
       "0        3.60      US  2023-03-30 18:29:33  \n",
       "1        5.66      US  2023-03-30 18:29:34  \n",
       "2        4.48      RE  2023-03-30 18:29:34  \n",
       "3        0.91      CN  2023-03-30 18:29:34  \n",
       "4        4.75      CN  2023-03-30 18:29:35  "
      ]
     },
     "execution_count": 3,
     "metadata": {},
     "output_type": "execute_result"
    }
   ],
   "source": [
    "# Load the CSV file created in Part 1 into a Pandas DataFrame\n",
    "city_data_df = pd.read_csv(\"output_data/cities.csv\")\n",
    "\n",
    "# Display sample data\n",
    "city_data_df.head()"
   ]
  },
  {
   "cell_type": "markdown",
   "metadata": {},
   "source": [
    "---\n",
    "\n",
    "### Step 1: Create a map that displays a point for every city in the `city_data_df` DataFrame. The size of the point should be the humidity in each city."
   ]
  },
  {
   "cell_type": "code",
   "execution_count": 19,
   "metadata": {},
   "outputs": [
    {
     "data": {},
     "metadata": {},
     "output_type": "display_data"
    },
    {
     "data": {
      "application/vnd.holoviews_exec.v0+json": "",
      "text/html": [
       "<div id='1737'>\n",
       "  <div class=\"bk-root\" id=\"9a5a80c5-20e6-4631-a2bc-f16484c5d588\" data-root-id=\"1737\"></div>\n",
       "</div>\n",
       "<script type=\"application/javascript\">(function(root) {\n",
       "  function embed_document(root) {\n",
       "    var docs_json = {\"16c9f815-3b47-4e4e-978b-1a31639cf8f0\":{\"defs\":[{\"extends\":null,\"module\":null,\"name\":\"ReactiveHTML1\",\"overrides\":[],\"properties\":[]},{\"extends\":null,\"module\":null,\"name\":\"FlexBox1\",\"overrides\":[],\"properties\":[{\"default\":\"flex-start\",\"kind\":null,\"name\":\"align_content\"},{\"default\":\"flex-start\",\"kind\":null,\"name\":\"align_items\"},{\"default\":\"row\",\"kind\":null,\"name\":\"flex_direction\"},{\"default\":\"wrap\",\"kind\":null,\"name\":\"flex_wrap\"},{\"default\":\"flex-start\",\"kind\":null,\"name\":\"justify_content\"}]},{\"extends\":null,\"module\":null,\"name\":\"GridStack1\",\"overrides\":[],\"properties\":[{\"default\":\"warn\",\"kind\":null,\"name\":\"mode\"},{\"default\":null,\"kind\":null,\"name\":\"ncols\"},{\"default\":null,\"kind\":null,\"name\":\"nrows\"},{\"default\":true,\"kind\":null,\"name\":\"allow_resize\"},{\"default\":true,\"kind\":null,\"name\":\"allow_drag\"},{\"default\":[],\"kind\":null,\"name\":\"state\"}]},{\"extends\":null,\"module\":null,\"name\":\"click1\",\"overrides\":[],\"properties\":[{\"default\":\"\",\"kind\":null,\"name\":\"terminal_output\"},{\"default\":\"\",\"kind\":null,\"name\":\"debug_name\"},{\"default\":0,\"kind\":null,\"name\":\"clears\"}]},{\"extends\":null,\"module\":null,\"name\":\"NotificationAreaBase1\",\"overrides\":[],\"properties\":[{\"default\":\"bottom-right\",\"kind\":null,\"name\":\"position\"},{\"default\":0,\"kind\":null,\"name\":\"_clear\"}]},{\"extends\":null,\"module\":null,\"name\":\"NotificationArea1\",\"overrides\":[],\"properties\":[{\"default\":[],\"kind\":null,\"name\":\"notifications\"},{\"default\":\"bottom-right\",\"kind\":null,\"name\":\"position\"},{\"default\":0,\"kind\":null,\"name\":\"_clear\"},{\"default\":[{\"background\":\"#ffc107\",\"icon\":{\"className\":\"fas fa-exclamation-triangle\",\"color\":\"white\",\"tagName\":\"i\"},\"type\":\"warning\"},{\"background\":\"#007bff\",\"icon\":{\"className\":\"fas fa-info-circle\",\"color\":\"white\",\"tagName\":\"i\"},\"type\":\"info\"}],\"kind\":null,\"name\":\"types\"}]},{\"extends\":null,\"module\":null,\"name\":\"Notification\",\"overrides\":[],\"properties\":[{\"default\":null,\"kind\":null,\"name\":\"background\"},{\"default\":3000,\"kind\":null,\"name\":\"duration\"},{\"default\":null,\"kind\":null,\"name\":\"icon\"},{\"default\":\"\",\"kind\":null,\"name\":\"message\"},{\"default\":null,\"kind\":null,\"name\":\"notification_type\"},{\"default\":false,\"kind\":null,\"name\":\"_destroyed\"}]},{\"extends\":null,\"module\":null,\"name\":\"TemplateActions1\",\"overrides\":[],\"properties\":[{\"default\":0,\"kind\":null,\"name\":\"open_modal\"},{\"default\":0,\"kind\":null,\"name\":\"close_modal\"}]},{\"extends\":null,\"module\":null,\"name\":\"MaterialTemplateActions1\",\"overrides\":[],\"properties\":[{\"default\":0,\"kind\":null,\"name\":\"open_modal\"},{\"default\":0,\"kind\":null,\"name\":\"close_modal\"}]}],\"roots\":{\"references\":[{\"attributes\":{},\"id\":\"1755\",\"type\":\"LinearScale\"},{\"attributes\":{\"coordinates\":null,\"data_source\":{\"id\":\"1814\"},\"glyph\":{\"id\":\"1817\"},\"group\":null,\"hover_glyph\":{\"id\":\"1820\"},\"muted_glyph\":{\"id\":\"1821\"},\"nonselection_glyph\":{\"id\":\"1818\"},\"selection_glyph\":{\"id\":\"1819\"},\"view\":{\"id\":\"1823\"}},\"id\":\"1822\",\"type\":\"GlyphRenderer\"},{\"attributes\":{\"code\":\"\\n        var projections = Bokeh.require(\\\"core/util/projections\\\");\\n        var x = special_vars.data_x\\n        var y = special_vars.data_y\\n        var coords = projections.wgs84_mercator.invert(x, y)\\n        return \\\"\\\" + (coords[1]).toFixed(4)\\n    \"},\"id\":\"1833\",\"type\":\"CustomJSHover\"},{\"attributes\":{},\"id\":\"1757\",\"type\":\"LinearScale\"},{\"attributes\":{\"dimension\":\"lat\"},\"id\":\"1784\",\"type\":\"MercatorTicker\"},{\"attributes\":{\"axis_label\":\"y\",\"coordinates\":null,\"formatter\":{\"id\":\"1785\"},\"group\":null,\"major_label_policy\":{\"id\":\"1795\"},\"ticker\":{\"id\":\"1784\"}},\"id\":\"1763\",\"type\":\"LinearAxis\"},{\"attributes\":{\"click_policy\":\"mute\",\"coordinates\":null,\"group\":null,\"items\":[{\"id\":\"1831\"}],\"location\":[0,0]},\"id\":\"1830\",\"type\":\"Legend\"},{\"attributes\":{\"coordinates\":null,\"group\":null,\"text_color\":\"black\",\"text_font_size\":\"12pt\"},\"id\":\"1751\",\"type\":\"Title\"},{\"attributes\":{\"axis\":{\"id\":\"1759\"},\"coordinates\":null,\"grid_line_color\":null,\"group\":null,\"ticker\":null},\"id\":\"1762\",\"type\":\"Grid\"},{\"attributes\":{\"children\":[{\"id\":\"1738\"},{\"id\":\"1750\"},{\"id\":\"1840\"}],\"margin\":[0,0,0,0],\"name\":\"Row02537\",\"tags\":[\"embedded\"]},\"id\":\"1737\",\"type\":\"Row\"},{\"attributes\":{\"axis_label\":\"x\",\"coordinates\":null,\"formatter\":{\"id\":\"1783\"},\"group\":null,\"major_label_policy\":{\"id\":\"1788\"},\"ticker\":{\"id\":\"1782\"}},\"id\":\"1759\",\"type\":\"LinearAxis\"},{\"attributes\":{\"dimension\":\"lon\"},\"id\":\"1782\",\"type\":\"MercatorTicker\"},{\"attributes\":{\"coordinates\":null,\"group\":null,\"level\":\"glyph\",\"tile_source\":{\"id\":\"1808\"}},\"id\":\"1811\",\"type\":\"TileRenderer\"},{\"attributes\":{\"factors\":[\"kahului\",\"saint george\",\"saint-philippe\",\"alihe\",\"hami\",\"punta arenas\",\"mataura\",\"port elizabeth\",\"hilo\",\"alice springs\",\"pevek\",\"half moon bay\",\"asau\",\"blagoyevo\",\"new norfolk\",\"provideniya\",\"rikitea\",\"carnarvon\",\"bluff\",\"henderson\",\"kapaa\",\"hithadhoo\",\"coquimbo\",\"hermanus\",\"dikson\",\"nome\",\"kathmandu\",\"yellowknife\",\"skibbereen\",\"whitianga\",\"nikolskoye\",\"tabou\",\"bambous virieux\",\"jamestown\",\"chuy\",\"griffith\",\"tezu\",\"kamina\",\"hobart\",\"seddon\",\"kruisfontein\",\"ribeira grande\",\"berlevag\",\"puerto ayora\",\"bredasdorp\",\"rusape\",\"sabalgarh\",\"tilichiki\",\"evensk\",\"turukhansk\",\"pisco\",\"skegness\",\"ilabaya\",\"prince albert\",\"zhigansk\",\"busselton\",\"port hedland\",\"sciacca\",\"los llanos de aridane\",\"kochi\",\"zhanaozen\",\"vaini\",\"vallenar\",\"fort wayne\",\"nushki\",\"puerto quijarro\",\"plouzane\",\"ushuaia\",\"albany\",\"san agustin\",\"port alfred\",\"saint-georges\",\"kodiak\",\"butaritari\",\"cape town\",\"dingle\",\"college\",\"mahebourg\",\"rawson\",\"cherskiy\",\"khatanga\",\"mar del plata\",\"mount gambier\",\"ormond beach\",\"toora-khem\",\"pishin\",\"ko samui\",\"naze\",\"samarai\",\"east london\",\"qaanaaq\",\"bundaberg\",\"arraial do cabo\",\"altea\",\"livani\",\"klaksvik\",\"sitka\",\"atuona\",\"torbay\",\"prince rupert\",\"northam\",\"port lavaca\",\"colquiri\",\"esperance\",\"semey\",\"burnie\",\"lodja\",\"dhidhdhoo\",\"ahipara\",\"ponta do sol\",\"thompson\",\"talnakh\",\"lebu\",\"codrington\",\"wanaka\",\"lavrentiya\",\"dubovka\",\"victoria\",\"kalevala\",\"savonlinna\",\"jamsa\",\"aksarka\",\"nova olimpia\",\"barrow\",\"avarua\",\"isangel\",\"kolokani\",\"saskylakh\",\"charters towers\",\"upernavik\",\"shubarkuduk\",\"vao\",\"tiksi\",\"namibe\",\"kuroiso\",\"lamar\",\"puerto carreno\",\"longyearbyen\",\"luderitz\",\"nantucket\",\"chokurdakh\",\"sosua\",\"tuktoyaktuk\",\"sokode\",\"castro\",\"mildura\",\"sinegorye\",\"cabo san lucas\",\"giffnock\",\"henties bay\",\"ancud\",\"caravelas\",\"melton mowbray\",\"olafsvik\",\"nouadhibou\",\"georgetown\",\"hengshui\",\"thunder bay\",\"veraval\",\"cap malheureux\",\"awjilah\",\"bethel\",\"zimmi\",\"aykhal\",\"narsaq\",\"kupang\",\"plettenberg bay\",\"iqaluit\",\"neya\",\"karpogory\",\"kirakira\",\"la massana\",\"shache\",\"bathsheba\",\"sainte-maxime\",\"weligama\",\"sola\",\"tay ninh\",\"priyutnoye\",\"severo-kurilsk\",\"tasiilaq\",\"camalu\",\"bonfim\",\"vostok\",\"lagunas\",\"padang\",\"geraldton\",\"baghmara\",\"shangzhi\",\"volchikha\",\"araguacu\",\"buala\",\"portland\",\"bridlington\",\"ampanihy\",\"price\",\"manchester\",\"norman wells\",\"pacaembu\",\"ballina\",\"camacha\",\"clyde river\",\"nanortalik\",\"ixtapa\",\"namatanai\",\"salalah\",\"lebanon\",\"ginda\",\"kpandae\",\"guerrero negro\",\"guymon\",\"baherden\",\"anloga\",\"te anau\",\"constitucion\",\"cidreira\",\"okahandja\",\"sao joao da barra\",\"bajil\",\"kavieng\",\"sept-iles\",\"marale\",\"alamosa\",\"ayna\",\"bull savanna\",\"leningradskiy\",\"kihei\",\"vila velha\",\"hirara\",\"yangjiang\",\"praia\",\"san juan\",\"lorengau\",\"mayo\",\"bacolod\",\"chapleau\",\"bilma\",\"pacific grove\",\"fortuna\",\"bandarbeyla\",\"raudeberg\",\"yar-sale\",\"cam ranh\",\"iguatu\",\"lom\",\"marsh harbour\",\"saint-pierre\",\"san policarpo\",\"nexo\",\"antofagasta\",\"anjiang\",\"yaan\",\"guaruja\",\"nakamura\",\"ribas do rio pardo\",\"santa maria\",\"cotonou\",\"antonina\",\"flensburg\",\"hamilton\",\"ntcheu\",\"vila franca do campo\",\"vardo\",\"praya\",\"camacupa\",\"ilulissat\",\"pitimbu\",\"kapchorwa\",\"sabha\",\"broome\",\"saint-honore\",\"aripuana\",\"marshalltown\",\"komsomolskiy\",\"diffa\",\"oranjemund\",\"acapulco\",\"nelson bay\",\"tomohon\",\"lagoa\",\"kitimat\",\"nhulunbuy\",\"flinders\",\"grajau\",\"sinnamary\",\"marfino\",\"mehamn\",\"itapetininga\",\"abalak\",\"port blair\",\"mackay\",\"katsuura\",\"anadyr\",\"kharan\",\"petersburg\",\"ferkessedougou\",\"mvangue\",\"shar\",\"belyy yar\",\"kaeo\",\"huejucar\",\"laguna\",\"sistranda\",\"ambilobe\",\"farafangana\",\"sur\",\"weiser\",\"polunochnoye\",\"yulara\",\"ketchikan\",\"nouakchott\",\"shambu\",\"manado\",\"bengkulu\",\"santa rosalia\",\"smirnykh\",\"harstad\",\"north bend\",\"pedra branca\",\"duverge\",\"yatou\",\"vilyuysk\",\"banda aceh\",\"wollongong\",\"mbuji-mayi\",\"beaverlodge\",\"khiri mat\",\"two rivers\",\"le port\",\"bom conselho\",\"uray\",\"natal\",\"jalu\",\"kalanguy\",\"katobu\",\"brae\",\"marsa matruh\",\"walvis bay\",\"buraydah\",\"tandil\",\"guarda\",\"avera\",\"helena\",\"pringsewu\",\"egvekinot\",\"warman\",\"sabancuy\",\"trairi\",\"petukhovo\",\"tual\",\"atambua\",\"palmer\",\"husavik\",\"les escoumins\",\"hulan ergi\",\"chernyshevskiy\",\"abeche\",\"buenaventura\",\"hasaki\",\"senneterre\",\"hovd\",\"kaitangata\",\"pangnirtung\",\"bantry\",\"tazovskiy\",\"hokitika\",\"kununurra\",\"yeppoon\",\"san patricio\",\"abashiri\",\"tongliao\",\"makaryev\",\"pillaro\",\"coihaique\",\"indiana\",\"christchurch\",\"missoula\",\"faanui\",\"sao filipe\",\"muscat\",\"esil\",\"iki-burul\",\"kavaratti\",\"itoman\",\"havelock\",\"winnemucca\",\"flin flon\",\"kaihua\",\"varhaug\",\"andenes\",\"puerto triunfo\",\"middelburg\",\"lompoc\",\"san blas\",\"cantanhede\",\"swan hill\",\"najran\",\"old shinyanga\",\"rocha\",\"sri aman\",\"alto araguaia\",\"terrace\",\"abu samrah\",\"roebourne\",\"laem sing\",\"nunkini\",\"nizwa\",\"bontang\",\"chunoyar\",\"hobyo\",\"quatre cocos\",\"monrovia\",\"manggar\",\"misratah\",\"pyshchug\",\"shu\",\"ukiah\",\"meulaboh\",\"uyuni\",\"salou\",\"lake havasu city\",\"makakilo city\",\"mayumba\",\"iracoubo\",\"trat\",\"ternate\",\"kudahuvadhoo\",\"xingyi\",\"pitiquito\",\"pantai remis\",\"newport\",\"poum\",\"tiznit\",\"silifke\",\"lensk\",\"basco\",\"sassandra\",\"ulladulla\",\"nalut\",\"agirish\",\"cooma\",\"rapid city\",\"dukat\",\"babstovo\",\"san vicente\",\"athabasca\",\"nuuk\",\"songjianghe\",\"prabumulih\",\"mayor pablo lagerenza\",\"oyonnax\",\"port-gentil\",\"adrar\",\"kochubey\",\"vestmanna\",\"somvarpet\",\"severodvinsk\",\"telimele\",\"jimenez\",\"sosnovo-ozerskoye\",\"kempsey\",\"okhotsk\",\"port lincoln\",\"santona\",\"tura\",\"denpasar\",\"paraiso\",\"thinadhoo\",\"bemidji\",\"aklavik\",\"souillac\",\"baghdad\",\"lusambo\",\"mogadishu\",\"bubaque\",\"usinsk\",\"hays\",\"sfantu gheorghe\",\"batsfjord\",\"prainha\",\"mancio lima\",\"bud\",\"la palma\",\"port hardy\",\"vanimo\",\"itarema\",\"caranavi\",\"bakchar\",\"saldanha\",\"qasigiannguit\",\"ahuimanu\",\"beringovskiy\",\"kanniyakumari\",\"muravlenko\",\"lasa\",\"mongomo\",\"dalbandin\",\"tigil\",\"sawakin\",\"lubumbashi\",\"olga\",\"sandakan\",\"challapata\",\"vilhena\",\"melnikovo\",\"marsabit\",\"brezice\",\"aksay\",\"kemin\",\"asfi\",\"lahaina\",\"talara\",\"la ronge\",\"san cristobal\",\"touros\",\"rokytne\",\"leh\",\"saint-leu\",\"samana\",\"gizo\",\"oistins\",\"anori\",\"turayf\",\"chumikan\",\"krasnoarmeysk\",\"grand gaube\",\"pochutla\",\"takoradi\",\"jiwani\",\"richards bay\",\"bairiki\",\"lieksa\",\"dandong\",\"oshawa\",\"sioux lookout\",\"elizabethton\",\"torrevieja\",\"aracoiaba da serra\",\"mehran\",\"sorong\",\"monaghan\",\"alofi\",\"krk\",\"mitsamiouli\",\"mattru\",\"micco\",\"puerto escondido\",\"hofn\",\"mahon\",\"marzuq\",\"markala\"],\"palette\":[\"#1f77b3\",\"#ff7e0e\",\"#2ba02b\",\"#d62628\",\"#9367bc\",\"#8c564b\",\"#e277c1\",\"#7e7e7e\",\"#bcbc21\",\"#16bdcf\",\"#3a0182\",\"#004201\",\"#0fffa8\",\"#5d003f\",\"#bcbcff\",\"#d8afa1\",\"#b80080\",\"#004d52\",\"#6b6400\",\"#7c0100\",\"#6026ff\",\"#ffff9a\",\"#564964\",\"#8cb893\",\"#93fbff\",\"#018267\",\"#90ff00\",\"#8200a0\",\"#ac8944\",\"#5b3400\",\"#ffbff2\",\"#ff6e75\",\"#798cff\",\"#dd00ff\",\"#505646\",\"#004489\",\"#ffbf60\",\"#ff018c\",\"#bdc8cf\",\"#af97b5\",\"#b65600\",\"#017000\",\"#cd87ff\",\"#1cd646\",\"#bfebc3\",\"#7997b5\",\"#a56089\",\"#6e8956\",\"#bc7c75\",\"#8a2844\",\"#00acff\",\"#8ed4ff\",\"#4b6d77\",\"#00d4b1\",\"#9300f2\",\"#8a9500\",\"#5d5b9e\",\"#fddfba\",\"#00939e\",\"#ffdb00\",\"#00aa79\",\"#520067\",\"#000091\",\"#0a5d3d\",\"#a5e275\",\"#623b41\",\"#c6c689\",\"#ff9eb5\",\"#cd4f6b\",\"#ff07d6\",\"#8a3a05\",\"#7e3d70\",\"#ff4901\",\"#602ba5\",\"#1c00ff\",\"#e6dfff\",\"#aa3baf\",\"#d89c00\",\"#a3a39e\",\"#3f69ff\",\"#46490c\",\"#7b6985\",\"#6b978c\",\"#ff9a75\",\"#835bff\",\"#7c6b46\",\"#80b654\",\"#bc0049\",\"#fd93ff\",\"#5d0018\",\"#89d1d1\",\"#9c8cd3\",\"#da6d42\",\"#8a5700\",\"#3b5069\",\"#4b6b3b\",\"#edcfd8\",\"#cfedff\",\"#aa1500\",\"#dfff4f\",\"#ff2a56\",\"#d1499e\",\"#707cb8\",\"#598000\",\"#00e4fd\",\"#774b95\",\"#67d48c\",\"#3d3a72\",\"#ac413f\",\"#d6a166\",\"#c169cd\",\"#69595d\",\"#87aced\",\"#a0a569\",\"#d1aae6\",\"#870062\",\"#00fddb\",\"#672818\",\"#b342ff\",\"#0e59c4\",\"#168742\",\"#90d300\",\"#cd7900\",\"#f959ff\",\"#5b7466\",\"#8eaeb3\",\"#9c7c8c\",\"#4600c6\",\"#6b4d2d\",\"#a56d46\",\"#9e8972\",\"#a8afca\",\"#cd8ca7\",\"#00fd64\",\"#917900\",\"#ff62a1\",\"#f4ffd8\",\"#018cf0\",\"#13aca0\",\"#5b2d59\",\"#89859e\",\"#cfccba\",\"#d4afc4\",\"#dbdd6d\",\"#cffff4\",\"#006485\",\"#006962\",\"#a84167\",\"#2d97c4\",\"#a874ff\",\"#26ba5d\",\"#57b600\",\"#caffa7\",\"#a379aa\",\"#ffbc93\",\"#89e2c1\",\"#0fc8ff\",\"#d400c4\",\"#626d89\",\"#69858e\",\"#4b4d52\",\"#aa6067\",\"#79b5d4\",\"#2b5916\",\"#9a0024\",\"#bdd1f2\",\"#896e67\",\"#69a56b\",\"#855467\",\"#aecdba\",\"#87997e\",\"#cadb00\",\"#9a0390\",\"#ebbc1a\",\"#eb9cd1\",\"#70006e\",\"#b1a131\",\"#ca6b93\",\"#4146a3\",\"#e48c89\",\"#d44400\",\"#c68aca\",\"#b69597\",\"#d41f75\",\"#724bcc\",\"#674d00\",\"#672138\",\"#38564f\",\"#6ebaaa\",\"#853a31\",\"#a5d397\",\"#b8af8e\",\"#d8e4df\",\"#aa00df\",\"#cac1db\",\"#ffdf8c\",\"#e2524d\",\"#66696e\",\"#ff001c\",\"#522d72\",\"#4d906b\",\"#a86d11\",\"#ff9e26\",\"#5ea3af\",\"#c88556\",\"#915997\",\"#a3a1ff\",\"#fdbaba\",\"#242a87\",\"#dbe6a8\",\"#97f2a7\",\"#6793d6\",\"#ba5b3f\",\"#3a5d91\",\"#364f2f\",\"#267c95\",\"#89959a\",\"#cfb356\",\"#004664\",\"#5e5d2f\",\"#8e8e41\",\"#ac3f13\",\"#69953b\",\"#a13d85\",\"#bfb6ba\",\"#acc667\",\"#6469cf\",\"#91af00\",\"#2be2da\",\"#016e36\",\"#ff7952\",\"#42807e\",\"#4fe800\",\"#995428\",\"#5d0a00\",\"#a30057\",\"#0c8700\",\"#5982a7\",\"#ffebfb\",\"#4b6901\",\"#8775d4\",\"#e6c6ff\",\"#a5ffda\",\"#d86e77\",\"#df014b\",\"#69675b\",\"#776ba1\",\"#7e8067\",\"#594685\",\"#0000ca\",\"#7c002a\",\"#97ff72\",\"#b5e2e1\",\"#db52c8\",\"#777734\",\"#57bd8e\",\"#1f77b3\",\"#ff7e0e\",\"#2ba02b\",\"#d62628\",\"#9367bc\",\"#8c564b\",\"#e277c1\",\"#7e7e7e\",\"#bcbc21\",\"#16bdcf\",\"#3a0182\",\"#004201\",\"#0fffa8\",\"#5d003f\",\"#bcbcff\",\"#d8afa1\",\"#b80080\",\"#004d52\",\"#6b6400\",\"#7c0100\",\"#6026ff\",\"#ffff9a\",\"#564964\",\"#8cb893\",\"#93fbff\",\"#018267\",\"#90ff00\",\"#8200a0\",\"#ac8944\",\"#5b3400\",\"#ffbff2\",\"#ff6e75\",\"#798cff\",\"#dd00ff\",\"#505646\",\"#004489\",\"#ffbf60\",\"#ff018c\",\"#bdc8cf\",\"#af97b5\",\"#b65600\",\"#017000\",\"#cd87ff\",\"#1cd646\",\"#bfebc3\",\"#7997b5\",\"#a56089\",\"#6e8956\",\"#bc7c75\",\"#8a2844\",\"#00acff\",\"#8ed4ff\",\"#4b6d77\",\"#00d4b1\",\"#9300f2\",\"#8a9500\",\"#5d5b9e\",\"#fddfba\",\"#00939e\",\"#ffdb00\",\"#00aa79\",\"#520067\",\"#000091\",\"#0a5d3d\",\"#a5e275\",\"#623b41\",\"#c6c689\",\"#ff9eb5\",\"#cd4f6b\",\"#ff07d6\",\"#8a3a05\",\"#7e3d70\",\"#ff4901\",\"#602ba5\",\"#1c00ff\",\"#e6dfff\",\"#aa3baf\",\"#d89c00\",\"#a3a39e\",\"#3f69ff\",\"#46490c\",\"#7b6985\",\"#6b978c\",\"#ff9a75\",\"#835bff\",\"#7c6b46\",\"#80b654\",\"#bc0049\",\"#fd93ff\",\"#5d0018\",\"#89d1d1\",\"#9c8cd3\",\"#da6d42\",\"#8a5700\",\"#3b5069\",\"#4b6b3b\",\"#edcfd8\",\"#cfedff\",\"#aa1500\",\"#dfff4f\",\"#ff2a56\",\"#d1499e\",\"#707cb8\",\"#598000\",\"#00e4fd\",\"#774b95\",\"#67d48c\",\"#3d3a72\",\"#ac413f\",\"#d6a166\",\"#c169cd\",\"#69595d\",\"#87aced\",\"#a0a569\",\"#d1aae6\",\"#870062\",\"#00fddb\",\"#672818\",\"#b342ff\",\"#0e59c4\",\"#168742\",\"#90d300\",\"#cd7900\",\"#f959ff\",\"#5b7466\",\"#8eaeb3\",\"#9c7c8c\",\"#4600c6\",\"#6b4d2d\",\"#a56d46\",\"#9e8972\",\"#a8afca\",\"#cd8ca7\",\"#00fd64\",\"#917900\",\"#ff62a1\",\"#f4ffd8\",\"#018cf0\",\"#13aca0\",\"#5b2d59\",\"#89859e\",\"#cfccba\",\"#d4afc4\",\"#dbdd6d\",\"#cffff4\",\"#006485\",\"#006962\",\"#a84167\",\"#2d97c4\",\"#a874ff\",\"#26ba5d\",\"#57b600\",\"#caffa7\",\"#a379aa\",\"#ffbc93\",\"#89e2c1\",\"#0fc8ff\",\"#d400c4\",\"#626d89\",\"#69858e\",\"#4b4d52\",\"#aa6067\",\"#79b5d4\",\"#2b5916\",\"#9a0024\",\"#bdd1f2\",\"#896e67\",\"#69a56b\",\"#855467\",\"#aecdba\",\"#87997e\",\"#cadb00\",\"#9a0390\",\"#ebbc1a\",\"#eb9cd1\",\"#70006e\",\"#b1a131\",\"#ca6b93\",\"#4146a3\",\"#e48c89\",\"#d44400\",\"#c68aca\",\"#b69597\",\"#d41f75\",\"#724bcc\",\"#674d00\",\"#672138\",\"#38564f\",\"#6ebaaa\",\"#853a31\",\"#a5d397\",\"#b8af8e\",\"#d8e4df\",\"#aa00df\",\"#cac1db\",\"#ffdf8c\",\"#e2524d\",\"#66696e\",\"#ff001c\",\"#522d72\",\"#4d906b\",\"#a86d11\",\"#ff9e26\",\"#5ea3af\",\"#c88556\",\"#915997\",\"#a3a1ff\",\"#fdbaba\",\"#242a87\",\"#dbe6a8\",\"#97f2a7\",\"#6793d6\",\"#ba5b3f\",\"#3a5d91\",\"#364f2f\",\"#267c95\",\"#89959a\",\"#cfb356\",\"#004664\",\"#5e5d2f\",\"#8e8e41\",\"#ac3f13\",\"#69953b\",\"#a13d85\",\"#bfb6ba\",\"#acc667\",\"#6469cf\",\"#91af00\",\"#2be2da\",\"#016e36\",\"#ff7952\",\"#42807e\",\"#4fe800\",\"#995428\",\"#5d0a00\",\"#a30057\",\"#0c8700\",\"#5982a7\",\"#ffebfb\",\"#4b6901\",\"#8775d4\",\"#e6c6ff\",\"#a5ffda\",\"#d86e77\",\"#df014b\",\"#69675b\",\"#776ba1\",\"#7e8067\",\"#594685\",\"#0000ca\",\"#7c002a\",\"#97ff72\",\"#b5e2e1\",\"#db52c8\",\"#777734\",\"#57bd8e\",\"#1f77b3\",\"#ff7e0e\",\"#2ba02b\",\"#d62628\",\"#9367bc\",\"#8c564b\",\"#e277c1\",\"#7e7e7e\",\"#bcbc21\",\"#16bdcf\",\"#3a0182\",\"#004201\",\"#0fffa8\",\"#5d003f\",\"#bcbcff\",\"#d8afa1\",\"#b80080\",\"#004d52\",\"#6b6400\",\"#7c0100\",\"#6026ff\",\"#ffff9a\",\"#564964\",\"#8cb893\",\"#93fbff\",\"#018267\",\"#90ff00\",\"#8200a0\",\"#ac8944\",\"#5b3400\",\"#ffbff2\",\"#ff6e75\",\"#798cff\",\"#dd00ff\",\"#505646\",\"#004489\",\"#ffbf60\",\"#ff018c\",\"#bdc8cf\"]},\"id\":\"1813\",\"type\":\"CategoricalColorMapper\"},{\"attributes\":{},\"id\":\"1795\",\"type\":\"AllLabels\"},{\"attributes\":{\"fill_alpha\":{\"value\":0.5},\"fill_color\":{\"field\":\"color\",\"transform\":{\"id\":\"1813\"}},\"hatch_alpha\":{\"value\":0.5},\"hatch_color\":{\"field\":\"color\",\"transform\":{\"id\":\"1813\"}},\"line_alpha\":{\"value\":0.5},\"line_color\":{\"field\":\"color\",\"transform\":{\"id\":\"1813\"}},\"size\":{\"field\":\"size\"},\"x\":{\"field\":\"Lng\"},\"y\":{\"field\":\"Lat\"}},\"id\":\"1819\",\"type\":\"Scatter\"},{\"attributes\":{\"dimension\":\"lat\"},\"id\":\"1785\",\"type\":\"MercatorTickFormatter\"},{\"attributes\":{},\"id\":\"1815\",\"type\":\"Selection\"},{\"attributes\":{\"tools\":[{\"id\":\"1747\"},{\"id\":\"1767\"},{\"id\":\"1768\"},{\"id\":\"1769\"},{\"id\":\"1770\"},{\"id\":\"1771\"}]},\"id\":\"1773\",\"type\":\"Toolbar\"},{\"attributes\":{\"end\":22954407.822650976,\"min_interval\":5,\"reset_end\":22954407.822650976,\"reset_start\":-22937709.89903198,\"start\":-22937709.89903198,\"tags\":[[[\"Lng\",\"Lng\",null]]]},\"id\":\"1743\",\"type\":\"Range1d\"},{\"attributes\":{\"fill_alpha\":{\"value\":0.2},\"fill_color\":{\"field\":\"color\",\"transform\":{\"id\":\"1813\"}},\"hatch_alpha\":{\"value\":0.2},\"hatch_color\":{\"field\":\"color\",\"transform\":{\"id\":\"1813\"}},\"line_alpha\":{\"value\":0.2},\"line_color\":{\"field\":\"color\",\"transform\":{\"id\":\"1813\"}},\"size\":{\"field\":\"size\"},\"x\":{\"field\":\"Lng\"},\"y\":{\"field\":\"Lat\"}},\"id\":\"1821\",\"type\":\"Scatter\"},{\"attributes\":{},\"id\":\"1827\",\"type\":\"UnionRenderers\"},{\"attributes\":{\"margin\":[5,5,5,5],\"name\":\"HSpacer02541\",\"sizing_mode\":\"stretch_width\"},\"id\":\"1738\",\"type\":\"Spacer\"},{\"attributes\":{\"label\":{\"field\":\"color\"},\"renderers\":[{\"id\":\"1822\"}]},\"id\":\"1831\",\"type\":\"LegendItem\"},{\"attributes\":{},\"id\":\"1768\",\"type\":\"PanTool\"},{\"attributes\":{\"dimension\":\"lon\"},\"id\":\"1783\",\"type\":\"MercatorTickFormatter\"},{\"attributes\":{\"axis\":{\"id\":\"1763\"},\"coordinates\":null,\"dimension\":1,\"grid_line_color\":null,\"group\":null,\"ticker\":null},\"id\":\"1766\",\"type\":\"Grid\"},{\"attributes\":{},\"id\":\"1767\",\"type\":\"SaveTool\"},{\"attributes\":{\"end\":20791365.665228847,\"min_interval\":5,\"reset_end\":20791365.665228847,\"reset_start\":-13627722.626033377,\"start\":-13627722.626033377,\"tags\":[[[\"Lat\",\"Lat\",null]]]},\"id\":\"1744\",\"type\":\"Range1d\"},{\"attributes\":{\"fill_alpha\":{\"value\":0.5},\"fill_color\":{\"field\":\"color\",\"transform\":{\"id\":\"1813\"}},\"hatch_alpha\":{\"value\":0.5},\"hatch_color\":{\"field\":\"color\",\"transform\":{\"id\":\"1813\"}},\"line_alpha\":{\"value\":0.5},\"line_color\":{\"field\":\"color\",\"transform\":{\"id\":\"1813\"}},\"size\":{\"field\":\"size\"},\"x\":{\"field\":\"Lng\"},\"y\":{\"field\":\"Lat\"}},\"id\":\"1820\",\"type\":\"Scatter\"},{\"attributes\":{\"match_aspect\":true,\"overlay\":{\"id\":\"1772\"}},\"id\":\"1770\",\"type\":\"BoxZoomTool\"},{\"attributes\":{\"fill_alpha\":{\"value\":0.5},\"fill_color\":{\"field\":\"color\",\"transform\":{\"id\":\"1813\"}},\"hatch_alpha\":{\"value\":0.1},\"hatch_color\":{\"field\":\"color\",\"transform\":{\"id\":\"1813\"}},\"line_alpha\":{\"value\":0.5},\"line_color\":{\"field\":\"color\",\"transform\":{\"id\":\"1813\"}},\"size\":{\"field\":\"size\"},\"x\":{\"field\":\"Lng\"},\"y\":{\"field\":\"Lat\"}},\"id\":\"1818\",\"type\":\"Scatter\"},{\"attributes\":{},\"id\":\"1771\",\"type\":\"ResetTool\"},{\"attributes\":{\"source\":{\"id\":\"1814\"}},\"id\":\"1823\",\"type\":\"CDSView\"},{\"attributes\":{},\"id\":\"1788\",\"type\":\"AllLabels\"},{\"attributes\":{\"code\":\"\\n        var projections = Bokeh.require(\\\"core/util/projections\\\");\\n        var x = special_vars.data_x\\n        var y = special_vars.data_y\\n        var coords = projections.wgs84_mercator.invert(x, y)\\n        return \\\"\\\" + (coords[0]).toFixed(4)\\n    \"},\"id\":\"1832\",\"type\":\"CustomJSHover\"},{\"attributes\":{\"bottom_units\":\"screen\",\"coordinates\":null,\"fill_alpha\":0.5,\"fill_color\":\"lightgrey\",\"group\":null,\"left_units\":\"screen\",\"level\":\"overlay\",\"line_alpha\":1.0,\"line_color\":\"black\",\"line_dash\":[4,4],\"line_width\":2,\"right_units\":\"screen\",\"syncable\":false,\"top_units\":\"screen\"},\"id\":\"1772\",\"type\":\"BoxAnnotation\"},{\"attributes\":{\"below\":[{\"id\":\"1759\"}],\"center\":[{\"id\":\"1762\"},{\"id\":\"1766\"}],\"frame_height\":600,\"frame_width\":800,\"height\":null,\"left\":[{\"id\":\"1763\"}],\"margin\":[5,5,5,5],\"match_aspect\":true,\"min_border_bottom\":10,\"min_border_left\":10,\"min_border_right\":10,\"min_border_top\":10,\"renderers\":[{\"id\":\"1811\"},{\"id\":\"1822\"}],\"right\":[{\"id\":\"1830\"}],\"sizing_mode\":\"fixed\",\"title\":{\"id\":\"1751\"},\"toolbar\":{\"id\":\"1773\"},\"width\":null,\"x_range\":{\"id\":\"1743\"},\"x_scale\":{\"id\":\"1755\"},\"y_range\":{\"id\":\"1744\"},\"y_scale\":{\"id\":\"1757\"}},\"id\":\"1750\",\"subtype\":\"Figure\",\"type\":\"Plot\"},{\"attributes\":{\"margin\":[5,5,5,5],\"name\":\"HSpacer02542\",\"sizing_mode\":\"stretch_width\"},\"id\":\"1840\",\"type\":\"Spacer\"},{\"attributes\":{\"callback\":null,\"formatters\":{\"$x\":{\"id\":\"1832\"},\"$y\":{\"id\":\"1833\"}},\"renderers\":[{\"id\":\"1822\"}],\"tags\":[\"hv_created\"],\"tooltips\":[[\"Lng\",\"$x{custom}\"],[\"Lat\",\"$y{custom}\"],[\"City\",\"@{City}\"],[\"_size\",\"@{A__size}\"]]},\"id\":\"1747\",\"type\":\"HoverTool\"},{\"attributes\":{\"zoom_on_axis\":false},\"id\":\"1769\",\"type\":\"WheelZoomTool\"},{\"attributes\":{\"attribution\":\"&copy; <a href=\\\"https://www.openstreetmap.org/copyright\\\">OpenStreetMap</a> contributors\",\"url\":\"https://c.tile.openstreetmap.org/{Z}/{X}/{Y}.png\"},\"id\":\"1808\",\"type\":\"WMTSTileSource\"},{\"attributes\":{\"data\":{\"A__size\":{\"__ndarray__\":\"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\",\"dtype\":\"float64\",\"order\":\"little\",\"shape\":[551]},\"City\":[\"kahului\",\"saint george\",\"saint-philippe\",\"alihe\",\"hami\",\"punta arenas\",\"mataura\",\"port elizabeth\",\"hilo\",\"alice springs\",\"pevek\",\"half moon bay\",\"asau\",\"blagoyevo\",\"new norfolk\",\"provideniya\",\"rikitea\",\"carnarvon\",\"bluff\",\"henderson\",\"kapaa\",\"hithadhoo\",\"coquimbo\",\"hermanus\",\"dikson\",\"nome\",\"kathmandu\",\"yellowknife\",\"skibbereen\",\"whitianga\",\"nikolskoye\",\"tabou\",\"bambous virieux\",\"jamestown\",\"chuy\",\"griffith\",\"tezu\",\"kamina\",\"hobart\",\"seddon\",\"kruisfontein\",\"ribeira grande\",\"berlevag\",\"puerto ayora\",\"bredasdorp\",\"rusape\",\"sabalgarh\",\"tilichiki\",\"evensk\",\"turukhansk\",\"pisco\",\"skegness\",\"ilabaya\",\"prince albert\",\"zhigansk\",\"busselton\",\"port hedland\",\"sciacca\",\"los llanos de aridane\",\"kochi\",\"zhanaozen\",\"vaini\",\"vallenar\",\"fort wayne\",\"nushki\",\"puerto quijarro\",\"plouzane\",\"ushuaia\",\"albany\",\"san agustin\",\"port alfred\",\"saint-georges\",\"kodiak\",\"butaritari\",\"cape town\",\"dingle\",\"college\",\"mahebourg\",\"rawson\",\"cherskiy\",\"khatanga\",\"mar del plata\",\"mount gambier\",\"ormond beach\",\"toora-khem\",\"pishin\",\"ko samui\",\"naze\",\"samarai\",\"east london\",\"qaanaaq\",\"bundaberg\",\"arraial do cabo\",\"altea\",\"livani\",\"klaksvik\",\"sitka\",\"atuona\",\"torbay\",\"prince rupert\",\"northam\",\"port lavaca\",\"colquiri\",\"esperance\",\"semey\",\"burnie\",\"lodja\",\"dhidhdhoo\",\"ahipara\",\"ponta do sol\",\"thompson\",\"talnakh\",\"lebu\",\"codrington\",\"wanaka\",\"lavrentiya\",\"dubovka\",\"victoria\",\"kalevala\",\"savonlinna\",\"jamsa\",\"aksarka\",\"nova olimpia\",\"barrow\",\"avarua\",\"isangel\",\"kolokani\",\"saskylakh\",\"charters towers\",\"upernavik\",\"shubarkuduk\",\"vao\",\"tiksi\",\"namibe\",\"kuroiso\",\"lamar\",\"puerto carreno\",\"longyearbyen\",\"luderitz\",\"nantucket\",\"chokurdakh\",\"sosua\",\"tuktoyaktuk\",\"sokode\",\"castro\",\"mildura\",\"sinegorye\",\"cabo san lucas\",\"giffnock\",\"henties bay\",\"ancud\",\"caravelas\",\"melton mowbray\",\"olafsvik\",\"nouadhibou\",\"georgetown\",\"hengshui\",\"thunder bay\",\"veraval\",\"cap malheureux\",\"awjilah\",\"bethel\",\"zimmi\",\"aykhal\",\"narsaq\",\"kupang\",\"plettenberg bay\",\"iqaluit\",\"neya\",\"karpogory\",\"kirakira\",\"la massana\",\"shache\",\"bathsheba\",\"sainte-maxime\",\"weligama\",\"sola\",\"tay ninh\",\"priyutnoye\",\"severo-kurilsk\",\"tasiilaq\",\"camalu\",\"bonfim\",\"vostok\",\"lagunas\",\"padang\",\"geraldton\",\"baghmara\",\"shangzhi\",\"volchikha\",\"araguacu\",\"buala\",\"portland\",\"bridlington\",\"ampanihy\",\"price\",\"manchester\",\"norman wells\",\"pacaembu\",\"ballina\",\"camacha\",\"clyde river\",\"nanortalik\",\"ixtapa\",\"namatanai\",\"salalah\",\"lebanon\",\"ginda\",\"kpandae\",\"guerrero negro\",\"guymon\",\"baherden\",\"anloga\",\"te anau\",\"constitucion\",\"cidreira\",\"okahandja\",\"sao joao da barra\",\"bajil\",\"kavieng\",\"sept-iles\",\"marale\",\"alamosa\",\"ayna\",\"bull savanna\",\"leningradskiy\",\"kihei\",\"vila velha\",\"hirara\",\"yangjiang\",\"praia\",\"san juan\",\"lorengau\",\"mayo\",\"bacolod\",\"chapleau\",\"bilma\",\"pacific grove\",\"fortuna\",\"bandarbeyla\",\"raudeberg\",\"yar-sale\",\"cam ranh\",\"iguatu\",\"lom\",\"marsh harbour\",\"saint-pierre\",\"san policarpo\",\"nexo\",\"antofagasta\",\"anjiang\",\"yaan\",\"guaruja\",\"nakamura\",\"ribas do rio pardo\",\"santa maria\",\"cotonou\",\"antonina\",\"flensburg\",\"hamilton\",\"ntcheu\",\"vila franca do campo\",\"vardo\",\"praya\",\"camacupa\",\"ilulissat\",\"pitimbu\",\"kapchorwa\",\"sabha\",\"broome\",\"saint-honore\",\"aripuana\",\"marshalltown\",\"komsomolskiy\",\"diffa\",\"oranjemund\",\"acapulco\",\"nelson bay\",\"tomohon\",\"lagoa\",\"kitimat\",\"nhulunbuy\",\"flinders\",\"grajau\",\"sinnamary\",\"marfino\",\"mehamn\",\"itapetininga\",\"abalak\",\"port blair\",\"mackay\",\"katsuura\",\"anadyr\",\"kharan\",\"petersburg\",\"ferkessedougou\",\"mvangue\",\"shar\",\"belyy yar\",\"kaeo\",\"huejucar\",\"laguna\",\"sistranda\",\"ambilobe\",\"farafangana\",\"sur\",\"weiser\",\"polunochnoye\",\"yulara\",\"ketchikan\",\"nouakchott\",\"shambu\",\"manado\",\"bengkulu\",\"santa rosalia\",\"smirnykh\",\"harstad\",\"north bend\",\"pedra branca\",\"duverge\",\"yatou\",\"vilyuysk\",\"banda aceh\",\"wollongong\",\"mbuji-mayi\",\"beaverlodge\",\"khiri mat\",\"two rivers\",\"le port\",\"bom conselho\",\"uray\",\"natal\",\"jalu\",\"kalanguy\",\"katobu\",\"brae\",\"marsa matruh\",\"walvis bay\",\"buraydah\",\"tandil\",\"guarda\",\"avera\",\"helena\",\"pringsewu\",\"egvekinot\",\"warman\",\"sabancuy\",\"trairi\",\"petukhovo\",\"tual\",\"atambua\",\"palmer\",\"husavik\",\"les escoumins\",\"hulan ergi\",\"chernyshevskiy\",\"abeche\",\"buenaventura\",\"hasaki\",\"senneterre\",\"hovd\",\"kaitangata\",\"pangnirtung\",\"bantry\",\"tazovskiy\",\"hokitika\",\"kununurra\",\"yeppoon\",\"san patricio\",\"abashiri\",\"tongliao\",\"makaryev\",\"pillaro\",\"coihaique\",\"indiana\",\"christchurch\",\"missoula\",\"faanui\",\"sao filipe\",\"muscat\",\"esil\",\"iki-burul\",\"kavaratti\",\"itoman\",\"havelock\",\"winnemucca\",\"flin flon\",\"kaihua\",\"varhaug\",\"andenes\",\"puerto triunfo\",\"middelburg\",\"lompoc\",\"san blas\",\"cantanhede\",\"swan hill\",\"najran\",\"old shinyanga\",\"rocha\",\"sri aman\",\"alto araguaia\",\"terrace\",\"abu samrah\",\"roebourne\",\"laem sing\",\"nunkini\",\"nizwa\",\"bontang\",\"chunoyar\",\"hobyo\",\"quatre cocos\",\"monrovia\",\"manggar\",\"misratah\",\"pyshchug\",\"shu\",\"ukiah\",\"meulaboh\",\"uyuni\",\"salou\",\"lake havasu city\",\"makakilo city\",\"mayumba\",\"iracoubo\",\"trat\",\"ternate\",\"kudahuvadhoo\",\"xingyi\",\"pitiquito\",\"pantai remis\",\"newport\",\"poum\",\"tiznit\",\"silifke\",\"lensk\",\"basco\",\"sassandra\",\"ulladulla\",\"nalut\",\"agirish\",\"cooma\",\"rapid city\",\"dukat\",\"babstovo\",\"san vicente\",\"athabasca\",\"nuuk\",\"songjianghe\",\"prabumulih\",\"mayor pablo lagerenza\",\"oyonnax\",\"port-gentil\",\"adrar\",\"kochubey\",\"vestmanna\",\"somvarpet\",\"severodvinsk\",\"telimele\",\"jimenez\",\"sosnovo-ozerskoye\",\"kempsey\",\"okhotsk\",\"port lincoln\",\"santona\",\"tura\",\"denpasar\",\"paraiso\",\"thinadhoo\",\"bemidji\",\"aklavik\",\"souillac\",\"baghdad\",\"lusambo\",\"mogadishu\",\"bubaque\",\"usinsk\",\"hays\",\"sfantu gheorghe\",\"batsfjord\",\"prainha\",\"mancio lima\",\"bud\",\"la palma\",\"port hardy\",\"vanimo\",\"itarema\",\"caranavi\",\"bakchar\",\"saldanha\",\"qasigiannguit\",\"ahuimanu\",\"beringovskiy\",\"kanniyakumari\",\"muravlenko\",\"lasa\",\"mongomo\",\"dalbandin\",\"tigil\",\"sawakin\",\"lubumbashi\",\"olga\",\"sandakan\",\"challapata\",\"vilhena\",\"melnikovo\",\"marsabit\",\"brezice\",\"aksay\",\"kemin\",\"asfi\",\"lahaina\",\"talara\",\"la ronge\",\"san cristobal\",\"touros\",\"rokytne\",\"leh\",\"saint-leu\",\"samana\",\"gizo\",\"oistins\",\"anori\",\"turayf\",\"chumikan\",\"krasnoarmeysk\",\"grand gaube\",\"pochutla\",\"takoradi\",\"jiwani\",\"richards bay\",\"bairiki\",\"lieksa\",\"dandong\",\"oshawa\",\"sioux lookout\",\"elizabethton\",\"torrevieja\",\"aracoiaba da serra\",\"mehran\",\"sorong\",\"monaghan\",\"alofi\",\"krk\",\"mitsamiouli\",\"mattru\",\"micco\",\"puerto escondido\",\"hofn\",\"mahon\",\"marzuq\",\"markala\"],\"Lat\":{\"__ndarray__\":\"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\",\"dtype\":\"float64\",\"order\":\"little\",\"shape\":[551]},\"Lng\":{\"__ndarray__\":\"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\",\"dtype\":\"float64\",\"order\":\"little\",\"shape\":[551]},\"color\":[\"kahului\",\"saint george\",\"saint-philippe\",\"alihe\",\"hami\",\"punta arenas\",\"mataura\",\"port elizabeth\",\"hilo\",\"alice springs\",\"pevek\",\"half moon bay\",\"asau\",\"blagoyevo\",\"new norfolk\",\"provideniya\",\"rikitea\",\"carnarvon\",\"bluff\",\"henderson\",\"kapaa\",\"hithadhoo\",\"coquimbo\",\"hermanus\",\"dikson\",\"nome\",\"kathmandu\",\"yellowknife\",\"skibbereen\",\"whitianga\",\"nikolskoye\",\"tabou\",\"bambous virieux\",\"jamestown\",\"chuy\",\"griffith\",\"tezu\",\"kamina\",\"hobart\",\"seddon\",\"kruisfontein\",\"ribeira grande\",\"berlevag\",\"puerto ayora\",\"bredasdorp\",\"rusape\",\"sabalgarh\",\"tilichiki\",\"evensk\",\"turukhansk\",\"pisco\",\"skegness\",\"ilabaya\",\"prince albert\",\"zhigansk\",\"busselton\",\"port hedland\",\"sciacca\",\"los llanos de aridane\",\"kochi\",\"zhanaozen\",\"vaini\",\"vallenar\",\"fort wayne\",\"nushki\",\"puerto quijarro\",\"plouzane\",\"ushuaia\",\"albany\",\"san agustin\",\"port alfred\",\"saint-georges\",\"kodiak\",\"butaritari\",\"cape town\",\"dingle\",\"college\",\"mahebourg\",\"rawson\",\"cherskiy\",\"khatanga\",\"mar del plata\",\"mount gambier\",\"ormond beach\",\"toora-khem\",\"pishin\",\"ko samui\",\"naze\",\"samarai\",\"east london\",\"qaanaaq\",\"bundaberg\",\"arraial do cabo\",\"altea\",\"livani\",\"klaksvik\",\"sitka\",\"atuona\",\"torbay\",\"prince rupert\",\"northam\",\"port lavaca\",\"colquiri\",\"esperance\",\"semey\",\"burnie\",\"lodja\",\"dhidhdhoo\",\"ahipara\",\"ponta do sol\",\"thompson\",\"talnakh\",\"lebu\",\"codrington\",\"wanaka\",\"lavrentiya\",\"dubovka\",\"victoria\",\"kalevala\",\"savonlinna\",\"jamsa\",\"aksarka\",\"nova olimpia\",\"barrow\",\"avarua\",\"isangel\",\"kolokani\",\"saskylakh\",\"charters towers\",\"upernavik\",\"shubarkuduk\",\"vao\",\"tiksi\",\"namibe\",\"kuroiso\",\"lamar\",\"puerto carreno\",\"longyearbyen\",\"luderitz\",\"nantucket\",\"chokurdakh\",\"sosua\",\"tuktoyaktuk\",\"sokode\",\"castro\",\"mildura\",\"sinegorye\",\"cabo san lucas\",\"giffnock\",\"henties bay\",\"ancud\",\"caravelas\",\"melton mowbray\",\"olafsvik\",\"nouadhibou\",\"georgetown\",\"hengshui\",\"thunder bay\",\"veraval\",\"cap malheureux\",\"awjilah\",\"bethel\",\"zimmi\",\"aykhal\",\"narsaq\",\"kupang\",\"plettenberg bay\",\"iqaluit\",\"neya\",\"karpogory\",\"kirakira\",\"la massana\",\"shache\",\"bathsheba\",\"sainte-maxime\",\"weligama\",\"sola\",\"tay ninh\",\"priyutnoye\",\"severo-kurilsk\",\"tasiilaq\",\"camalu\",\"bonfim\",\"vostok\",\"lagunas\",\"padang\",\"geraldton\",\"baghmara\",\"shangzhi\",\"volchikha\",\"araguacu\",\"buala\",\"portland\",\"bridlington\",\"ampanihy\",\"price\",\"manchester\",\"norman wells\",\"pacaembu\",\"ballina\",\"camacha\",\"clyde river\",\"nanortalik\",\"ixtapa\",\"namatanai\",\"salalah\",\"lebanon\",\"ginda\",\"kpandae\",\"guerrero negro\",\"guymon\",\"baherden\",\"anloga\",\"te anau\",\"constitucion\",\"cidreira\",\"okahandja\",\"sao joao da barra\",\"bajil\",\"kavieng\",\"sept-iles\",\"marale\",\"alamosa\",\"ayna\",\"bull savanna\",\"leningradskiy\",\"kihei\",\"vila velha\",\"hirara\",\"yangjiang\",\"praia\",\"san juan\",\"lorengau\",\"mayo\",\"bacolod\",\"chapleau\",\"bilma\",\"pacific grove\",\"fortuna\",\"bandarbeyla\",\"raudeberg\",\"yar-sale\",\"cam ranh\",\"iguatu\",\"lom\",\"marsh harbour\",\"saint-pierre\",\"san policarpo\",\"nexo\",\"antofagasta\",\"anjiang\",\"yaan\",\"guaruja\",\"nakamura\",\"ribas do rio pardo\",\"santa maria\",\"cotonou\",\"antonina\",\"flensburg\",\"hamilton\",\"ntcheu\",\"vila franca do campo\",\"vardo\",\"praya\",\"camacupa\",\"ilulissat\",\"pitimbu\",\"kapchorwa\",\"sabha\",\"broome\",\"saint-honore\",\"aripuana\",\"marshalltown\",\"komsomolskiy\",\"diffa\",\"oranjemund\",\"acapulco\",\"nelson bay\",\"tomohon\",\"lagoa\",\"kitimat\",\"nhulunbuy\",\"flinders\",\"grajau\",\"sinnamary\",\"marfino\",\"mehamn\",\"itapetininga\",\"abalak\",\"port blair\",\"mackay\",\"katsuura\",\"anadyr\",\"kharan\",\"petersburg\",\"ferkessedougou\",\"mvangue\",\"shar\",\"belyy yar\",\"kaeo\",\"huejucar\",\"laguna\",\"sistranda\",\"ambilobe\",\"farafangana\",\"sur\",\"weiser\",\"polunochnoye\",\"yulara\",\"ketchikan\",\"nouakchott\",\"shambu\",\"manado\",\"bengkulu\",\"santa rosalia\",\"smirnykh\",\"harstad\",\"north bend\",\"pedra branca\",\"duverge\",\"yatou\",\"vilyuysk\",\"banda aceh\",\"wollongong\",\"mbuji-mayi\",\"beaverlodge\",\"khiri mat\",\"two rivers\",\"le port\",\"bom conselho\",\"uray\",\"natal\",\"jalu\",\"kalanguy\",\"katobu\",\"brae\",\"marsa matruh\",\"walvis bay\",\"buraydah\",\"tandil\",\"guarda\",\"avera\",\"helena\",\"pringsewu\",\"egvekinot\",\"warman\",\"sabancuy\",\"trairi\",\"petukhovo\",\"tual\",\"atambua\",\"palmer\",\"husavik\",\"les escoumins\",\"hulan ergi\",\"chernyshevskiy\",\"abeche\",\"buenaventura\",\"hasaki\",\"senneterre\",\"hovd\",\"kaitangata\",\"pangnirtung\",\"bantry\",\"tazovskiy\",\"hokitika\",\"kununurra\",\"yeppoon\",\"san patricio\",\"abashiri\",\"tongliao\",\"makaryev\",\"pillaro\",\"coihaique\",\"indiana\",\"christchurch\",\"missoula\",\"faanui\",\"sao filipe\",\"muscat\",\"esil\",\"iki-burul\",\"kavaratti\",\"itoman\",\"havelock\",\"winnemucca\",\"flin flon\",\"kaihua\",\"varhaug\",\"andenes\",\"puerto triunfo\",\"middelburg\",\"lompoc\",\"san blas\",\"cantanhede\",\"swan hill\",\"najran\",\"old shinyanga\",\"rocha\",\"sri aman\",\"alto araguaia\",\"terrace\",\"abu samrah\",\"roebourne\",\"laem sing\",\"nunkini\",\"nizwa\",\"bontang\",\"chunoyar\",\"hobyo\",\"quatre cocos\",\"monrovia\",\"manggar\",\"misratah\",\"pyshchug\",\"shu\",\"ukiah\",\"meulaboh\",\"uyuni\",\"salou\",\"lake havasu city\",\"makakilo city\",\"mayumba\",\"iracoubo\",\"trat\",\"ternate\",\"kudahuvadhoo\",\"xingyi\",\"pitiquito\",\"pantai remis\",\"newport\",\"poum\",\"tiznit\",\"silifke\",\"lensk\",\"basco\",\"sassandra\",\"ulladulla\",\"nalut\",\"agirish\",\"cooma\",\"rapid city\",\"dukat\",\"babstovo\",\"san vicente\",\"athabasca\",\"nuuk\",\"songjianghe\",\"prabumulih\",\"mayor pablo lagerenza\",\"oyonnax\",\"port-gentil\",\"adrar\",\"kochubey\",\"vestmanna\",\"somvarpet\",\"severodvinsk\",\"telimele\",\"jimenez\",\"sosnovo-ozerskoye\",\"kempsey\",\"okhotsk\",\"port lincoln\",\"santona\",\"tura\",\"denpasar\",\"paraiso\",\"thinadhoo\",\"bemidji\",\"aklavik\",\"souillac\",\"baghdad\",\"lusambo\",\"mogadishu\",\"bubaque\",\"usinsk\",\"hays\",\"sfantu gheorghe\",\"batsfjord\",\"prainha\",\"mancio lima\",\"bud\",\"la palma\",\"port hardy\",\"vanimo\",\"itarema\",\"caranavi\",\"bakchar\",\"saldanha\",\"qasigiannguit\",\"ahuimanu\",\"beringovskiy\",\"kanniyakumari\",\"muravlenko\",\"lasa\",\"mongomo\",\"dalbandin\",\"tigil\",\"sawakin\",\"lubumbashi\",\"olga\",\"sandakan\",\"challapata\",\"vilhena\",\"melnikovo\",\"marsabit\",\"brezice\",\"aksay\",\"kemin\",\"asfi\",\"lahaina\",\"talara\",\"la ronge\",\"san cristobal\",\"touros\",\"rokytne\",\"leh\",\"saint-leu\",\"samana\",\"gizo\",\"oistins\",\"anori\",\"turayf\",\"chumikan\",\"krasnoarmeysk\",\"grand gaube\",\"pochutla\",\"takoradi\",\"jiwani\",\"richards bay\",\"bairiki\",\"lieksa\",\"dandong\",\"oshawa\",\"sioux lookout\",\"elizabethton\",\"torrevieja\",\"aracoiaba da serra\",\"mehran\",\"sorong\",\"monaghan\",\"alofi\",\"krk\",\"mitsamiouli\",\"mattru\",\"micco\",\"puerto escondido\",\"hofn\",\"mahon\",\"marzuq\",\"markala\"],\"size\":{\"__ndarray__\":\"qPSXm3fjIUDOQy2d0pAcQEGHYsYy3iJAJPjZcFscIkBJP2gR6u4NQAAAAAAAABxAZxP+7lXmI0AonAXAijgiQKGVD9RbfiNAp1ZUWfzCIkBiVmN9nbIjQNls38x2+CBAaHROF7I9H0CrKakwKxQjQAAAAAAAACJANHgzuReMIkAG+5VNMNogQNls38x2+CBAfsQjLEL5IkCK01rB4PoYQBYEd3XuLiNA2WzfzHb4IEAH7a9mD34gQJoukCFocCJAAAAAAAAAJEBABbGXjEkjQAy4NvaBPyBADLg29oE/IEAGU0QwBmQjQJoukCFocCJAZxP+7lXmI0D5TWQ0g28hQEGHYsYy3iJA6ft2INUeHUDm0iw6nqciQPzuY2kz1RpAaHROF7I9H0BiVmN9nbIjQATxbY/cqSFA5tIsOp6nIkCrKakwKxQjQCT42XBbHCJAQAWxl4xJI0CrKakwKxQjQOPT1iHIjCFANHgzuReMIkAAAAAAAAAcQAAAAAAAACRAYlZjfZ2yI0BiVmN9nbIjQKMUrqiHFiFAmi6QIWhwIkAMuDb2gT8gQAftr2YPfiBAmi6QIWhwIkAG+5VNMNogQEGHYsYy3iJANHgzuReMIkBZBvckXKgYQOPT1iHIjCFAAAAAAAAAIEAGU0QwBmQjQM07f2aeoBZAitNaweD6GEDACh8AxkgcQKpMWOh6thtAQAWxl4xJI0Dp+3Yg1R4dQAAAAAAAABhA2WzfzHb4EECo9Jebd+MhQNC6YT/gHyBA5tIsOp6nIkCo9Jebd+MhQE4BN/pjNCFAfsQjLEL5IkDaTk+x3vseQEGHYsYy3iJAcMSdOY12HkAuIQkUjpgjQGcT/u5V5iNAi9T6juZeIEBABbGXjEkjQNjhqu8vqh1A26+sB7O7IEAJ0I7N/ZwgQOsvN9EMUiFABlNEMAZkI0D5TWQ0g28hQOPT1iHIjCFA2WzfzHb4IEBnE/7uVeYjQAy4NvaBPyBAgDlCLtzIFEBTVK+ZiswjQFNUr5mKzCNA26+sB7O7IEAG+5VNMNogQNueW0V+uR5A5tIsOp6nIkBBh2LGMt4iQHC4LWvBxiFA6ft2INUeHUCo9Jebd+MhQMaxDR7VZB1AJPjZcFscIkBiVmN9nbIjQOsvN9EMUiFAJPjZcFscIkAST43r+34fQDRv/ZNyiBpAAAAAAAAAJEAH7a9mD34gQOsvN9EMUiFAp1ZUWfzCIkA0eDO5F4wiQE4BN/pjNCFAqympMCsUI0AGU0QwBmQjQF91vH6/vx9AoZUP1Ft+I0AuIQkUjpgjQAftr2YPfiBAmi6QIWhwIkBBh2LGMt4iQIUeFbmOVCJAzTt/Zp6gBkAAAAAAAAAkQAy4NvaBPyBAFgR3de4uI0DaTk+x3vseQKj0l5t34yFAAAAAAAAAJECo9Jebd+MhQKspqTArFCNA26+sB7O7IEAj0HAcGyEbQKMUrqiHFiFAoxSuqIcWIUBkEiZKR+wZQAAAAAAAACRADLg29oE/IEDj09YhyIwhQKpMWOh6thtAB+2vZg9+IEAk+NlwWxwiQEGHYsYy3iJA8NBioW76FkBwuC1rwcYhQBYEd3XuLiNAX3W8fr+/H0Bfdbx+v78fQOsvN9EMUiFAQAWxl4xJI0Bcz1bMBzMeQKdWVFn8wiJAI9BwHBshG0CAOUIu3MgUQCicBcCKOCJAqPSXm3fjIUDq+NKpfyoVQM07f2aeoBZAAAAAAAAAIkBnE/7uVeYjQAftr2YPfiBA49PWIciMIUBiVmN9nbIjQOPT1iHIjCFAU1SvmYrMI0BnE/7uVeYjQCicBcCKOCJAX3W8fr+/H0AAAAAAAAAQQHDEnTmNdh5A5tIsOp6nIkA0eDO5F4wiQE4BN/pjNCFAoxSuqIcWIUAJ0I7N/ZwgQPlNZDSDbyFAQYdixjLeIkDaTk+x3vseQDRv/ZNyiBpAAAAAAAAAIkBwuC1rwcYhQAAAAAAAACJAp1ZUWfzCIkAuIQkUjpgTQMAKHwDGSBxAoxSuqIcWIUDbnltFfrkeQATxbY/cqSFAqPSXm3fjIUCnVlRZ/MIiQKdWVFn8wiJA0LphP+AfIEDrLzfRDFIhQBJPjev7fh9AxrENHtVkHUDbr6wHs7sgQAftr2YPfiBABPFtj9ypIUDZbN/MdvggQMAKHwDGSBxA5tIsOp6nIkDGsQ0e1WQdQIA5Qi7cyBRAaHROF7I9H0DOQy2d0pAcQNpOT7He+x5AZBImSkfsGUDq+NKpfyoVQNls38x2+CBAAAAAAAAAIkAA/5+ZzJwZQAy4NvaBPyBA2WzfzHb4EEDACh8AxkgcQMaxDR7VZB1Ami6QIWhwIkCrKakwKxQjQI+lNtKt6BVAAAAAAAAAEEBABbGXjEkjQHDEnTmNdh5AZxP+7lXmI0AAAAAAAAAiQF91vH6/vx9AKJwFwIo4IkChlQ/UW34jQDRv/ZNyiBpA6vjSqX8qFUAAAAAAAAAiQC3Ck9EQqhdAhR4VuY5UIkDbnltFfrkeQM07f2aeoAZAoxSuqIcWIUDbr6wHs7sgQKMUrqiHFiFATgE3+mM0IUAAAAAAAAAkQCicBcCKOCJABPFtj9ypIUAAAAAAAAAgQNuvrAezuyBAKJwFwIo4IkAonAXAijgiQGJWY32dsiNA26+sB7O7IECaLpAhaHAiQM07f2aeoBZA26+sB7O7IEDrLzfRDFIhQPNZYUQr2BxA0LphP+AfIEBwuC1rwcYhQAAAAAAAAPA/QYdixjLeIkBTW9o6WEwZQFNUr5mKzCNALiEJFI6YI0AAAAAAAAAkQDRv/ZNyiBpAFgR3de4uI0CL1PqO5l4gQAy4NvaBPyBABvuVTTDaIEAWBHd17i4TQMaxDR7VZB1AxrENHtVkHUDGsQ0e1WQdQOn7diDVHh1A255bRX65HkAAAAAAAAAIQKj0l5t34yFADLg29oE/IECjFK6ohxYhQBYEd3XuLiNAhR4VuY5UIkAJ0I7N/ZwgQCicBcCKOCJACdCOzf2cIECFHhW5jlQiQNuvrAezuyBANHgzuReMIkAAAAAAAAAkQAAAAAAAACBAKJwFwIo4IkBBh2LGMt4iQJoukCFocCJAAAAAAAAAIkCaLpAhaHAiQGChHSrROhpAAP+fmcycGUCK01rB4PoYQH7EIyxC+SJACdCOzf2cIEAAAAAAAAAgQAAAAAAAACJANG/9k3KICkDZbN/MdvggQFzPVswHMx5AQAWxl4xJI0A0eDO5F4wiQPNZYUQr2BxAAAAAAAAAIkBABbGXjEkjQNjhqu8vqh1AAAAAAAAAIkDY4arvL6odQGQSJkpH7BlAAAAAAAAAJECrKakwKxQjQCPQcBwbIRtALiEJFI6YI0BiVmN9nbIjQKj0l5t34yFA49PWIciMIUDz2aikaIoVQM5DLZ3SkBxAQYdixjLeIkBwuC1rwcYhQAnQjs39nCBAQAWxl4xJI0AonAXAijgiQKKjsw3lUhdACdCOzf2cIEAuIQkUjpgjQDRv/ZNyiBpAAAAAAAAAIkAGU0QwBmQjQOr40ql/KhVA49PWIciMIUAGU0QwBmQjQKGVD9RbfiNAzkMtndKQHEDj09YhyIwhQI+lNtKt6BVAAAAAAAAAGEAMuDb2gT8gQC3Ck9EQqhdAfsQjLEL5IkBTVK+ZiswjQEGHYsYy3iJATgE3+mM0IUBkEiZKR+wZQPlNZDSDbyFA+U1kNINvIUDrLzfRDFIhQH7EIyxC+SJALiEJFI6YE0CFHhW5jlQiQNls38x2+CBAZBImSkfsGUAAAAAAAAAkQPNZYUQr2AxABvuVTTDaIED5TWQ0g28hQHC4LWvBxiFANG/9k3KIGkBABbGXjEkjQKspqTArFCNALiEJFI6YI0BnE/7uVeYjQE4BN/pjNCFAKJwFwIo4IkCnVlRZ/MIiQAnQjs39nCBAKJwFwIo4IkA53GOzv1QYQC4hCRSOmCNAAAAAAAAAIkDGsQ0e1WQdQDRv/ZNyiBpA5tIsOp6nIkAGU0QwBmQjQE4BN/pjNCFA6y830QxSIUDaTk+x3vseQPlNZDSDbyFAaHROF7I9H0Dbr6wHs7sgQKdWVFn8wiJA6ft2INUeHUBJP2gR6u4dQFkG9yRcqBhAp1ZUWfzCIkChlQ/UW34jQKj0l5t34yFAzkMtndKQHEAST43r+34fQE4BN/pjNCFAw8FoBWRFFkCaLpAhaHAiQNls38x2+CBAAP+fmcycGUCFHhW5jlQiQIvU+o7mXiBAAAAAAAAAJEBwxJ05jXYeQEk/aBHq7h1AwAofAMZIHEBwuC1rwcYhQAAAAAAAACJAp1ZUWfzCEkCnVlRZ/MISQEGHYsYy3iJAoxSuqIcWIUCjFK6ohxYhQDR4M7kXjCJAcLgta8HGIUCrKakwKxQjQF91vH6/vx9AFgR3de4uI0AST43r+34fQAAAAAAAACJAKJwFwIo4IkD2LxJfZWUUQCT42XBbHCJA89mopGiKFUAE8W2P3KkhQCT42XBbHCJA26+sB7O7IEBBh2LGMt4iQAAAAAAAACJATgE3+mM0IUDzWWFEK9gcQM07f2aeoBZAmi6QIWhwIkDm0iw6nqciQATxbY/cqSFA2k5Psd77DkDNO39mnqAWQIUeFbmOVCJAAAAAAAAAIkAk+NlwWxwiQHC4LWvBxiFAp1ZUWfzCEkAonAXAijgiQBYEd3XuLiNA255bRX65HkBwuC1rwcYhQHDEnTmNdh5AB+2vZg9+IEAk+NlwWxwiQMAKHwDGSBxAX3W8fr+/H0BTVK+ZiswjQAAAAAAAABhAfsQjLEL5IkBOATf6YzQhQM07f2aeoAZAqkxY6Hq2G0AAAAAAAAAkQH7EIyxC+SJAQAWxl4xJI0AAAAAAAAAYQNls38x2+BBA2WzfzHb4IEBBh2LGMt4iQC4hCRSOmCNA+U1kNINvIUDGsQ0e1WQdQHC4LWvBxiFAKJwFwIo4IkAAAAAAAAAgQE4BN/pjNCFAU1vaOlhMGUAMuDb2gT8gQEGHYsYy3iJA2OGq7y+qHUBnE/7uVeYjQE4BN/pjNCFA6y830QxSIUDrLzfRDFIhQKdWVFn8wiJAcMSdOY12HkBABbGXjEkjQDR4M7kXjCJA26+sB7O7IEDmkzW4MGwbQIvU+o7mXiBA0LphP+AfIEDm0iw6nqciQPlNZDSDbyFAEk+N6/t+H0CFHhW5jlQiQCT42XBbHCJA5tIsOp6nIkAonAXAijgiQKGVD9RbfiNAAAAAAAAAIkBTVK+ZiswjQKGVD9RbfiNAp1ZUWfzCIkA53GOzv1QYQKGVD9RbfiNADLg29oE/IEBiVmN9nbIjQKj0l5t34yFAQYdixjLeIkDACh8AxkgcQNC6YT/gHyBAAAAAAAAAIkBodE4Xsj0fQAb7lU0w2iBAU1SvmYrMI0AAAAAAAAAiQFzPVswHMx5AJPjZcFscIkAMuDb2gT8gQFkG9yRcqBhA6ft2INUeHUDbr6wHs7sgQH7EIyxC+SJAi9T6juZeIEAuIQkUjpgjQNjhqu8vqh1AqPSXm3fjIUBwxJ05jXYeQBYEd3XuLiNAcMSdOY12HkBiVmN9nbIjQAAAAAAAACJAqPSXm3fjIUA0b/2TcogaQOPT1iHIjCFATgE3+mM0IUAWBHd17i4jQCicBcCKOCJAoZUP1Ft+I0AG+5VNMNogQFkG9yRcqBhAxrENHtVkHUAWBHd17i4TQEk/aBHq7h1AEk+N6/t+H0D87mNpM9UaQKj0l5t34yFABlNEMAZkI0BBh2LGMt4iQCT42XBbHCJA49PWIciMIUAST43r+34fQEk/aBHq7h1A26+sB7O7IEChlQ/UW34jQAZTRDAGZCNAB+2vZg9+IEDq+NKpfyoFQA==\",\"dtype\":\"float64\",\"order\":\"little\",\"shape\":[551]}},\"selected\":{\"id\":\"1815\"},\"selection_policy\":{\"id\":\"1827\"}},\"id\":\"1814\",\"type\":\"ColumnDataSource\"},{\"attributes\":{\"fill_alpha\":{\"value\":0.5},\"fill_color\":{\"field\":\"color\",\"transform\":{\"id\":\"1813\"}},\"hatch_alpha\":{\"value\":0.5},\"hatch_color\":{\"field\":\"color\",\"transform\":{\"id\":\"1813\"}},\"line_alpha\":{\"value\":0.5},\"line_color\":{\"field\":\"color\",\"transform\":{\"id\":\"1813\"}},\"size\":{\"field\":\"size\"},\"x\":{\"field\":\"Lng\"},\"y\":{\"field\":\"Lat\"}},\"id\":\"1817\",\"type\":\"Scatter\"}],\"root_ids\":[\"1737\"]},\"title\":\"Bokeh Application\",\"version\":\"2.4.3\"}};\n",
       "    var render_items = [{\"docid\":\"16c9f815-3b47-4e4e-978b-1a31639cf8f0\",\"root_ids\":[\"1737\"],\"roots\":{\"1737\":\"9a5a80c5-20e6-4631-a2bc-f16484c5d588\"}}];\n",
       "    root.Bokeh.embed.embed_items_notebook(docs_json, render_items);\n",
       "  }\n",
       "  if (root.Bokeh !== undefined && root.Bokeh.Panel !== undefined) {\n",
       "    embed_document(root);\n",
       "  } else {\n",
       "    var attempts = 0;\n",
       "    var timer = setInterval(function(root) {\n",
       "      if (root.Bokeh !== undefined && root.Bokeh.Panel !== undefined) {\n",
       "        clearInterval(timer);\n",
       "        embed_document(root);\n",
       "      } else if (document.readyState == \"complete\") {\n",
       "        attempts++;\n",
       "        if (attempts > 200) {\n",
       "          clearInterval(timer);\n",
       "          console.log(\"Bokeh: ERROR: Unable to run BokehJS code because BokehJS library is missing\");\n",
       "        }\n",
       "      }\n",
       "    }, 25, root)\n",
       "  }\n",
       "})(window);</script>"
      ],
      "text/plain": [
       ":Overlay\n",
       "   .Tiles.I  :Tiles   [x,y]\n",
       "   .Points.I :Points   [Lng,Lat]   (City,_size)"
      ]
     },
     "execution_count": 19,
     "metadata": {
      "application/vnd.holoviews_exec.v0+json": {
       "id": "1737"
      }
     },
     "output_type": "execute_result"
    }
   ],
   "source": [
    "%%capture --no-display\n",
    "\n",
    "map_plot_1 = city_data_df.hvplot.points(\n",
    "    \"Lng\",\n",
    "    \"Lat\",\n",
    "    geo = True,\n",
    "    size = city_data_df[\"Humidity\"],\n",
    "    color = \"City\",\n",
    "    tiles = \"OSM\",\n",
    "    alpha=0.5,\n",
    "    frame_width = 800,\n",
    "    frame_height = 600    \n",
    ")\n",
    "\n",
    "\n",
    "\n",
    "# Display the map\n",
    "map_plot_1"
   ]
  },
  {
   "cell_type": "markdown",
   "metadata": {},
   "source": [
    "### Step 2: Narrow down the `city_data_df` DataFrame to find your ideal weather condition"
   ]
  },
  {
   "cell_type": "code",
   "execution_count": 34,
   "metadata": {},
   "outputs": [
    {
     "data": {
      "text/html": [
       "<div>\n",
       "<style scoped>\n",
       "    .dataframe tbody tr th:only-of-type {\n",
       "        vertical-align: middle;\n",
       "    }\n",
       "\n",
       "    .dataframe tbody tr th {\n",
       "        vertical-align: top;\n",
       "    }\n",
       "\n",
       "    .dataframe thead th {\n",
       "        text-align: right;\n",
       "    }\n",
       "</style>\n",
       "<table border=\"1\" class=\"dataframe\">\n",
       "  <thead>\n",
       "    <tr style=\"text-align: right;\">\n",
       "      <th></th>\n",
       "      <th>City_ID</th>\n",
       "      <th>City</th>\n",
       "      <th>Lat</th>\n",
       "      <th>Lng</th>\n",
       "      <th>Max Temp</th>\n",
       "      <th>Humidity</th>\n",
       "      <th>Cloudiness</th>\n",
       "      <th>Wind Speed</th>\n",
       "      <th>Country</th>\n",
       "      <th>Date</th>\n",
       "    </tr>\n",
       "  </thead>\n",
       "  <tbody>\n",
       "    <tr>\n",
       "      <th>293</th>\n",
       "      <td>293</td>\n",
       "      <td>kharan</td>\n",
       "      <td>28.5833</td>\n",
       "      <td>65.4167</td>\n",
       "      <td>21.33</td>\n",
       "      <td>43</td>\n",
       "      <td>0</td>\n",
       "      <td>2.51</td>\n",
       "      <td>PK</td>\n",
       "      <td>2023-03-30 18:31:09</td>\n",
       "    </tr>\n",
       "    <tr>\n",
       "      <th>379</th>\n",
       "      <td>379</td>\n",
       "      <td>muscat</td>\n",
       "      <td>23.6139</td>\n",
       "      <td>58.5922</td>\n",
       "      <td>25.01</td>\n",
       "      <td>60</td>\n",
       "      <td>0</td>\n",
       "      <td>1.94</td>\n",
       "      <td>OM</td>\n",
       "      <td>2023-03-30 18:31:38</td>\n",
       "    </tr>\n",
       "    <tr>\n",
       "      <th>406</th>\n",
       "      <td>406</td>\n",
       "      <td>nizwa</td>\n",
       "      <td>22.9333</td>\n",
       "      <td>57.5333</td>\n",
       "      <td>23.86</td>\n",
       "      <td>22</td>\n",
       "      <td>0</td>\n",
       "      <td>0.82</td>\n",
       "      <td>OM</td>\n",
       "      <td>2023-03-30 18:31:52</td>\n",
       "    </tr>\n",
       "    <tr>\n",
       "      <th>206</th>\n",
       "      <td>206</td>\n",
       "      <td>lebanon</td>\n",
       "      <td>36.2081</td>\n",
       "      <td>-86.2911</td>\n",
       "      <td>21.21</td>\n",
       "      <td>27</td>\n",
       "      <td>0</td>\n",
       "      <td>0.00</td>\n",
       "      <td>US</td>\n",
       "      <td>2023-03-30 18:28:49</td>\n",
       "    </tr>\n",
       "    <tr>\n",
       "      <th>421</th>\n",
       "      <td>421</td>\n",
       "      <td>makakilo city</td>\n",
       "      <td>21.3469</td>\n",
       "      <td>-158.0858</td>\n",
       "      <td>25.25</td>\n",
       "      <td>78</td>\n",
       "      <td>0</td>\n",
       "      <td>3.60</td>\n",
       "      <td>US</td>\n",
       "      <td>2023-03-30 18:31:56</td>\n",
       "    </tr>\n",
       "  </tbody>\n",
       "</table>\n",
       "</div>"
      ],
      "text/plain": [
       "     City_ID           City      Lat       Lng  Max Temp  Humidity  \\\n",
       "293      293         kharan  28.5833   65.4167     21.33        43   \n",
       "379      379         muscat  23.6139   58.5922     25.01        60   \n",
       "406      406          nizwa  22.9333   57.5333     23.86        22   \n",
       "206      206        lebanon  36.2081  -86.2911     21.21        27   \n",
       "421      421  makakilo city  21.3469 -158.0858     25.25        78   \n",
       "\n",
       "     Cloudiness  Wind Speed Country                 Date  \n",
       "293           0        2.51      PK  2023-03-30 18:31:09  \n",
       "379           0        1.94      OM  2023-03-30 18:31:38  \n",
       "406           0        0.82      OM  2023-03-30 18:31:52  \n",
       "206           0        0.00      US  2023-03-30 18:28:49  \n",
       "421           0        3.60      US  2023-03-30 18:31:56  "
      ]
     },
     "execution_count": 34,
     "metadata": {},
     "output_type": "execute_result"
    }
   ],
   "source": [
    "# Narrow down cities that fit criteria and drop any results with null values\n",
    "df = city_data_df[(city_data_df[\"Max Temp\"] < 27) & (city_data_df[\"Max Temp\"] > 21) & (city_data_df[\"Wind Speed\"] < 4.5) & (city_data_df[\"Cloudiness\"] == 0)]\n",
    "\n",
    "cleandf = df.dropna()\n",
    "# Drop any rows with null values\n",
    "# YOUR CODE HERE\n",
    "\n",
    "# Display sample data\n",
    "cleandf.sample(5)"
   ]
  },
  {
   "cell_type": "markdown",
   "metadata": {},
   "source": [
    "### Step 3: Create a new DataFrame called `hotel_df`."
   ]
  },
  {
   "cell_type": "code",
   "execution_count": 47,
   "metadata": {},
   "outputs": [
    {
     "data": {
      "text/plain": [
       "206                 lebanon\n",
       "231                san juan\n",
       "Hotel Name                 \n",
       "421           makakilo city\n",
       "341                   avera\n",
       "293                  kharan\n",
       "305                     sur\n",
       "379                  muscat\n",
       "438                   nalut\n",
       "Name: City, dtype: object"
      ]
     },
     "execution_count": 47,
     "metadata": {},
     "output_type": "execute_result"
    }
   ],
   "source": [
    "# Use the Pandas copy function to create DataFrame called hotel_df to store the city, country, coordinates, and humidity\n",
    "# YOUR CODE HERE\n",
    "hotel_df = cleandf[\"City\"].copy()\n",
    "\n",
    "\n",
    "# Add an empty column, \"Hotel Name,\" to the DataFrame so you can store the hotel found using the Geoapify API\n",
    "hotel_df[\"Hotel Name\"] = ''\n",
    "\n",
    "# Display sample data\n",
    "hotel_df.sample(9)"
   ]
  },
  {
   "cell_type": "markdown",
   "metadata": {},
   "source": [
    "### Step 4: For each city, use the Geoapify API to find the first hotel located within 10,000 metres of your coordinates."
   ]
  },
  {
   "cell_type": "code",
   "execution_count": 6,
   "metadata": {},
   "outputs": [
    {
     "ename": "SyntaxError",
     "evalue": "invalid syntax (788381735.py, line 2)",
     "output_type": "error",
     "traceback": [
      "\u001b[1;36m  File \u001b[1;32m\"C:\\Users\\Smooth\\AppData\\Local\\Temp\\ipykernel_27064\\788381735.py\"\u001b[1;36m, line \u001b[1;32m2\u001b[0m\n\u001b[1;33m    radius = # YOUR CODE HERE\u001b[0m\n\u001b[1;37m             ^\u001b[0m\n\u001b[1;31mSyntaxError\u001b[0m\u001b[1;31m:\u001b[0m invalid syntax\n"
     ]
    }
   ],
   "source": [
    "# Set parameters to search for a hotel\n",
    "radius = # YOUR CODE HERE\n",
    "params = {\n",
    "    # YOUR CODE HERE\n",
    "}\n",
    "\n",
    "# Print a message to follow up the hotel search\n",
    "print(\"Starting hotel search\")\n",
    "\n",
    "# Iterate through the hotel_df DataFrame\n",
    "for index, row in hotel_df.iterrows():\n",
    "    # get latitude, longitude from the DataFrame\n",
    "    # YOUR CODE HERE\n",
    "    \n",
    "    # Add filter and bias parameters with the current city's latitude and longitude to the params dictionary\n",
    "    params[\"filter\"] = # YOUR CODE HERE\n",
    "    params[\"bias\"] = # YOUR CODE HERE\n",
    "    \n",
    "    # Set base URL\n",
    "    base_url = \"https://api.geoapify.com/v2/places\"\n",
    "\n",
    "\n",
    "    # Make and API request using the params dictionaty\n",
    "    name_address = # YOUR CODE HERE\n",
    "    \n",
    "    # Convert the API response to JSON format\n",
    "    name_address = # YOUR CODE HERE\n",
    "    \n",
    "    # Grab the first hotel from the results and store the name in the hotel_df DataFrame\n",
    "    try:\n",
    "        hotel_df.loc[index, \"Hotel Name\"] = name_address[\"features\"][0][\"properties\"][\"name\"]\n",
    "    except (KeyError, IndexError):\n",
    "        # If no hotel is found, set the hotel name as \"No hotel found\".\n",
    "        hotel_df.loc[index, \"Hotel Name\"] = \"No hotel found\"\n",
    "        \n",
    "    # Log the search results\n",
    "    print(f\"{hotel_df.loc[index, 'City']} - nearest hotel: {hotel_df.loc[index, 'Hotel Name']}\")\n",
    "\n",
    "# Display sample data\n",
    "hotel_df"
   ]
  },
  {
   "cell_type": "markdown",
   "metadata": {},
   "source": [
    "### Step 5: Add the hotel name and the country as additional information in the hover message for each city in the map."
   ]
  },
  {
   "cell_type": "code",
   "execution_count": null,
   "metadata": {},
   "outputs": [],
   "source": [
    "%%capture --no-display\n",
    "\n",
    "# Configure the map plot\n",
    "# YOUR CODE HERE\n",
    "\n",
    "# Display the map\n",
    "# YOUR CODE HERE"
   ]
  },
  {
   "cell_type": "code",
   "execution_count": null,
   "metadata": {},
   "outputs": [],
   "source": []
  }
 ],
 "metadata": {
  "kernelspec": {
   "display_name": "Python 3 (ipykernel)",
   "language": "python",
   "name": "python3"
  },
  "language_info": {
   "codemirror_mode": {
    "name": "ipython",
    "version": 3
   },
   "file_extension": ".py",
   "mimetype": "text/x-python",
   "name": "python",
   "nbconvert_exporter": "python",
   "pygments_lexer": "ipython3",
   "version": "3.9.13"
  },
  "latex_envs": {
   "LaTeX_envs_menu_present": true,
   "autoclose": false,
   "autocomplete": true,
   "bibliofile": "biblio.bib",
   "cite_by": "apalike",
   "current_citInitial": 1,
   "eqLabelWithNumbers": true,
   "eqNumInitial": 1,
   "hotkeys": {
    "equation": "Ctrl-E",
    "itemize": "Ctrl-I"
   },
   "labels_anchors": false,
   "latex_user_defs": false,
   "report_style_numbering": false,
   "user_envs_cfg": false
  }
 },
 "nbformat": 4,
 "nbformat_minor": 4
}
